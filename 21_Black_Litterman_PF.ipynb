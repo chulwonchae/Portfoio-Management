{
 "cells": [
  {
   "cell_type": "code",
   "execution_count": 1,
   "metadata": {},
   "outputs": [],
   "source": [
    "import numpy as np\n",
    "import pandas as pd\n",
    "import matplotlib.pyplot as plt\n",
    "import seaborn as sns\n",
    "import yfinance as yf\n",
    "from scipy.optimize import minimize\n",
    "sns.set()"
   ]
  },
  {
   "cell_type": "code",
   "execution_count": 3,
   "metadata": {},
   "outputs": [
    {
     "name": "stderr",
     "output_type": "stream",
     "text": [
      "[*********************100%***********************]  9 of 9 completed\n"
     ]
    }
   ],
   "source": [
    "tickers = ['XLB', 'XLE', 'XLF', 'XLI', 'XLK', 'XLP', 'XLU', 'XLV', 'XLY']\n",
    "etf = yf.Tickers(tickers)\n",
    "data = etf.history(start='2010-01-01', actions=False)\n",
    "data.drop(['Open','High','Low','Volume'],inplace=True, axis = 1)\n",
    "data = data.droplevel(0,axis=1).resample('W').last()"
   ]
  },
  {
   "cell_type": "code",
   "execution_count": 4,
   "metadata": {},
   "outputs": [],
   "source": [
    "# return, cov\n",
    "ret = data.pct_change().dropna()\n",
    "ret_vect = ret.mean() * 52\n",
    "cov_mat = ret.cov() *52"
   ]
  },
  {
   "cell_type": "code",
   "execution_count": 5,
   "metadata": {},
   "outputs": [
    {
     "data": {
      "text/plain": [
       "Ticker\n",
       "XLB    0.107782\n",
       "XLE    0.092247\n",
       "XLF    0.127194\n",
       "XLI    0.138481\n",
       "XLK    0.185684\n",
       "XLP    0.112418\n",
       "XLU    0.112574\n",
       "XLV    0.136683\n",
       "XLY    0.156053\n",
       "dtype: float64"
      ]
     },
     "execution_count": 5,
     "metadata": {},
     "output_type": "execute_result"
    }
   ],
   "source": [
    "ret_vect"
   ]
  },
  {
   "cell_type": "code",
   "execution_count": 6,
   "metadata": {},
   "outputs": [
    {
     "data": {
      "text/html": [
       "<div>\n",
       "<style scoped>\n",
       "    .dataframe tbody tr th:only-of-type {\n",
       "        vertical-align: middle;\n",
       "    }\n",
       "\n",
       "    .dataframe tbody tr th {\n",
       "        vertical-align: top;\n",
       "    }\n",
       "\n",
       "    .dataframe thead th {\n",
       "        text-align: right;\n",
       "    }\n",
       "</style>\n",
       "<table border=\"1\" class=\"dataframe\">\n",
       "  <thead>\n",
       "    <tr style=\"text-align: right;\">\n",
       "      <th>Ticker</th>\n",
       "      <th>XLB</th>\n",
       "      <th>XLE</th>\n",
       "      <th>XLF</th>\n",
       "      <th>XLI</th>\n",
       "      <th>XLK</th>\n",
       "      <th>XLP</th>\n",
       "      <th>XLU</th>\n",
       "      <th>XLV</th>\n",
       "      <th>XLY</th>\n",
       "    </tr>\n",
       "    <tr>\n",
       "      <th>Ticker</th>\n",
       "      <th></th>\n",
       "      <th></th>\n",
       "      <th></th>\n",
       "      <th></th>\n",
       "      <th></th>\n",
       "      <th></th>\n",
       "      <th></th>\n",
       "      <th></th>\n",
       "      <th></th>\n",
       "    </tr>\n",
       "  </thead>\n",
       "  <tbody>\n",
       "    <tr>\n",
       "      <th>XLB</th>\n",
       "      <td>0.042764</td>\n",
       "      <td>0.039969</td>\n",
       "      <td>0.036538</td>\n",
       "      <td>0.035684</td>\n",
       "      <td>0.028742</td>\n",
       "      <td>0.016584</td>\n",
       "      <td>0.018523</td>\n",
       "      <td>0.021568</td>\n",
       "      <td>0.031266</td>\n",
       "    </tr>\n",
       "    <tr>\n",
       "      <th>XLE</th>\n",
       "      <td>0.039969</td>\n",
       "      <td>0.073069</td>\n",
       "      <td>0.040269</td>\n",
       "      <td>0.037853</td>\n",
       "      <td>0.025058</td>\n",
       "      <td>0.016382</td>\n",
       "      <td>0.018299</td>\n",
       "      <td>0.020707</td>\n",
       "      <td>0.028218</td>\n",
       "    </tr>\n",
       "    <tr>\n",
       "      <th>XLF</th>\n",
       "      <td>0.036538</td>\n",
       "      <td>0.040269</td>\n",
       "      <td>0.045346</td>\n",
       "      <td>0.036723</td>\n",
       "      <td>0.028338</td>\n",
       "      <td>0.017353</td>\n",
       "      <td>0.018541</td>\n",
       "      <td>0.022215</td>\n",
       "      <td>0.032090</td>\n",
       "    </tr>\n",
       "    <tr>\n",
       "      <th>XLI</th>\n",
       "      <td>0.035684</td>\n",
       "      <td>0.037853</td>\n",
       "      <td>0.036723</td>\n",
       "      <td>0.037952</td>\n",
       "      <td>0.029164</td>\n",
       "      <td>0.017694</td>\n",
       "      <td>0.019442</td>\n",
       "      <td>0.021576</td>\n",
       "      <td>0.031615</td>\n",
       "    </tr>\n",
       "    <tr>\n",
       "      <th>XLK</th>\n",
       "      <td>0.028742</td>\n",
       "      <td>0.025058</td>\n",
       "      <td>0.028338</td>\n",
       "      <td>0.029164</td>\n",
       "      <td>0.038145</td>\n",
       "      <td>0.016018</td>\n",
       "      <td>0.015278</td>\n",
       "      <td>0.020608</td>\n",
       "      <td>0.032813</td>\n",
       "    </tr>\n",
       "    <tr>\n",
       "      <th>XLP</th>\n",
       "      <td>0.016584</td>\n",
       "      <td>0.016382</td>\n",
       "      <td>0.017353</td>\n",
       "      <td>0.017694</td>\n",
       "      <td>0.016018</td>\n",
       "      <td>0.017146</td>\n",
       "      <td>0.015616</td>\n",
       "      <td>0.014652</td>\n",
       "      <td>0.017051</td>\n",
       "    </tr>\n",
       "    <tr>\n",
       "      <th>XLU</th>\n",
       "      <td>0.018523</td>\n",
       "      <td>0.018299</td>\n",
       "      <td>0.018541</td>\n",
       "      <td>0.019442</td>\n",
       "      <td>0.015278</td>\n",
       "      <td>0.015616</td>\n",
       "      <td>0.030579</td>\n",
       "      <td>0.015710</td>\n",
       "      <td>0.017617</td>\n",
       "    </tr>\n",
       "    <tr>\n",
       "      <th>XLV</th>\n",
       "      <td>0.021568</td>\n",
       "      <td>0.020707</td>\n",
       "      <td>0.022215</td>\n",
       "      <td>0.021576</td>\n",
       "      <td>0.020608</td>\n",
       "      <td>0.014652</td>\n",
       "      <td>0.015710</td>\n",
       "      <td>0.024159</td>\n",
       "      <td>0.021024</td>\n",
       "    </tr>\n",
       "    <tr>\n",
       "      <th>XLY</th>\n",
       "      <td>0.031266</td>\n",
       "      <td>0.028218</td>\n",
       "      <td>0.032090</td>\n",
       "      <td>0.031615</td>\n",
       "      <td>0.032813</td>\n",
       "      <td>0.017051</td>\n",
       "      <td>0.017617</td>\n",
       "      <td>0.021024</td>\n",
       "      <td>0.038677</td>\n",
       "    </tr>\n",
       "  </tbody>\n",
       "</table>\n",
       "</div>"
      ],
      "text/plain": [
       "Ticker       XLB       XLE       XLF       XLI       XLK       XLP       XLU  \\\n",
       "Ticker                                                                         \n",
       "XLB     0.042764  0.039969  0.036538  0.035684  0.028742  0.016584  0.018523   \n",
       "XLE     0.039969  0.073069  0.040269  0.037853  0.025058  0.016382  0.018299   \n",
       "XLF     0.036538  0.040269  0.045346  0.036723  0.028338  0.017353  0.018541   \n",
       "XLI     0.035684  0.037853  0.036723  0.037952  0.029164  0.017694  0.019442   \n",
       "XLK     0.028742  0.025058  0.028338  0.029164  0.038145  0.016018  0.015278   \n",
       "XLP     0.016584  0.016382  0.017353  0.017694  0.016018  0.017146  0.015616   \n",
       "XLU     0.018523  0.018299  0.018541  0.019442  0.015278  0.015616  0.030579   \n",
       "XLV     0.021568  0.020707  0.022215  0.021576  0.020608  0.014652  0.015710   \n",
       "XLY     0.031266  0.028218  0.032090  0.031615  0.032813  0.017051  0.017617   \n",
       "\n",
       "Ticker       XLV       XLY  \n",
       "Ticker                      \n",
       "XLB     0.021568  0.031266  \n",
       "XLE     0.020707  0.028218  \n",
       "XLF     0.022215  0.032090  \n",
       "XLI     0.021576  0.031615  \n",
       "XLK     0.020608  0.032813  \n",
       "XLP     0.014652  0.017051  \n",
       "XLU     0.015710  0.017617  \n",
       "XLV     0.024159  0.021024  \n",
       "XLY     0.021024  0.038677  "
      ]
     },
     "execution_count": 6,
     "metadata": {},
     "output_type": "execute_result"
    }
   ],
   "source": [
    "cov_mat"
   ]
  },
  {
   "cell_type": "code",
   "execution_count": 7,
   "metadata": {},
   "outputs": [],
   "source": [
    "pal = sns.color_palette('Spectral', len(tickers))"
   ]
  },
  {
   "cell_type": "markdown",
   "metadata": {},
   "source": [
    "## Market Capital Weight"
   ]
  },
  {
   "cell_type": "code",
   "execution_count": 8,
   "metadata": {},
   "outputs": [],
   "source": [
    "cap_list = []\n",
    "for ticker in tickers:\n",
    "    market_cap = yf.Ticker(ticker).info['totalAssets'] #etf's size = 'totalAssets'\n",
    "    cap_list.append(market_cap)"
   ]
  },
  {
   "cell_type": "code",
   "execution_count": 9,
   "metadata": {},
   "outputs": [
    {
     "data": {
      "text/plain": [
       "XLB    0.020580\n",
       "XLE    0.136695\n",
       "XLF    0.167543\n",
       "XLI    0.072532\n",
       "XLK    0.253072\n",
       "XLP    0.062518\n",
       "XLU    0.063164\n",
       "XLV    0.155001\n",
       "XLY    0.068896\n",
       "dtype: float64"
      ]
     },
     "execution_count": 9,
     "metadata": {},
     "output_type": "execute_result"
    }
   ],
   "source": [
    "caps = cap_list\n",
    "caps_df = pd.Series(caps, index=tickers)\n",
    "market_weights_df = caps_df / caps_df.sum()\n",
    "market_weights_df"
   ]
  },
  {
   "cell_type": "code",
   "execution_count": 10,
   "metadata": {},
   "outputs": [
    {
     "data": {
      "image/png": "[encoded data removed]",
      "text/plain": [
       "<Figure size 700x700 with 1 Axes>"
      ]
     },
     "metadata": {},
     "output_type": "display_data"
    }
   ],
   "source": [
    "plt.figure(figsize=(7, 7))\n",
    "wedgeprops = {'width':0.3, 'edgecolor':'w', 'linewidth':2}\n",
    "plt.pie(market_weights_df, labels=market_weights_df.index, autopct='%.1f%%', wedgeprops=wedgeprops, colors=pal)\n",
    "plt.show()"
   ]
  },
  {
   "cell_type": "code",
   "execution_count": 11,
   "metadata": {},
   "outputs": [
    {
     "name": "stdout",
     "output_type": "stream",
     "text": [
      "0.13925021890333159 0.027162586481005835\n"
     ]
    }
   ],
   "source": [
    "# 시장 포트폴리오 수익률 평균 및 분산\n",
    "mkt_port_ret = ret_vect.multiply(market_weights_df.values).sum()\n",
    "mkt_port_var = np.matmul(market_weights_df.values.reshape(len(market_weights_df)).T,np.matmul(cov_mat.values, market_weights_df.values.reshape(len(market_weights_df))))\n",
    "\n",
    "print(mkt_port_ret, mkt_port_var)"
   ]
  },
  {
   "cell_type": "code",
   "execution_count": 12,
   "metadata": {},
   "outputs": [
    {
     "name": "stdout",
     "output_type": "stream",
     "text": [
      "0.8449097573394798\n"
     ]
    }
   ],
   "source": [
    "# 위험회피계수\n",
    "mkt_lambda = mkt_port_ret / np.sqrt(mkt_port_var)\n",
    "print(mkt_lambda)"
   ]
  },
  {
   "cell_type": "markdown",
   "metadata": {},
   "source": [
    "## BLM- Reverse Engineering"
   ]
  },
  {
   "cell_type": "code",
   "execution_count": 13,
   "metadata": {},
   "outputs": [
    {
     "data": {
      "text/plain": [
       "XLB    0.025374\n",
       "XLE    0.028709\n",
       "XLF    0.026698\n",
       "XLI    0.025391\n",
       "XLK    0.023619\n",
       "XLP    0.013797\n",
       "XLU    0.015058\n",
       "XLV    0.017640\n",
       "XLY    0.024144\n",
       "dtype: float64"
      ]
     },
     "execution_count": 13,
     "metadata": {},
     "output_type": "execute_result"
    }
   ],
   "source": [
    "# 균형기대수익률\n",
    "pi = np.dot(np.dot(mkt_lambda, cov_mat), market_weights_df)\n",
    "pi_df = pd.Series(pi, index=tickers)\n",
    "pi_df"
   ]
  },
  {
   "cell_type": "markdown",
   "metadata": {},
   "source": [
    "### 투자자 전망과 기대수익률 그리고 전망의 불확실성 계산"
   ]
  },
  {
   "cell_type": "code",
   "execution_count": 14,
   "metadata": {},
   "outputs": [],
   "source": [
    "# 투자자 전망\n",
    "# 3 개의 전망. \n",
    "Q = np.array([0.0925, 0.005, 0.055]) # [전망1수치, 전망2수치, 전망3수치]\n",
    "P = [[0, 0, 0, 0, 0, 0, 1, 0, 0], # 절대적 첫번째 전망 : XLU가 0.0925 더 잘나갈것이다 \n",
    "     [0, 0, 1, -1, 0, 0, 0, 0, 0], # 상대적 두번쨰 전망 : XLF가 XLI보다 0.005 더 잘나갈것이다. \n",
    "     [0, 0, 0, 0, 0, 0, 0, 1, 0]] # XLV 0.055 가 더 잘나갈것이다. \n",
    "\n",
    "# 위험조정상수\n",
    "tau = 1 / len(data) * 52\n",
    "\n",
    "# 투자자 전망의 불확실성 계산\n",
    "omega = np.diag(np.diag(np.dot(np.dot(np.dot(tau, P), cov_mat), np.transpose(P)))) "
   ]
  },
  {
   "cell_type": "code",
   "execution_count": 15,
   "metadata": {},
   "outputs": [
    {
     "data": {
      "text/plain": [
       "array([[0.00207315, 0.        , 0.        ],\n",
       "       [0.        , 0.00066798, 0.        ],\n",
       "       [0.        , 0.        , 0.00163789]])"
      ]
     },
     "execution_count": 15,
     "metadata": {},
     "output_type": "execute_result"
    }
   ],
   "source": [
    "omega\n",
    "# 3가지 전망의 불확실성 정도"
   ]
  },
  {
   "cell_type": "markdown",
   "metadata": {},
   "source": [
    "## BLM Model"
   ]
  },
  {
   "cell_type": "code",
   "execution_count": 16,
   "metadata": {
    "id": "puzVjsCEtsdy"
   },
   "outputs": [],
   "source": [
    "# 투자자 전망과 합쳐진 균형초과수익률 계산\n",
    "term1 = np.linalg.inv(np.dot(tau, cov_mat))\n",
    "term2 = np.dot(np.dot(np.transpose(P), np.linalg.inv(omega)), P)\n",
    "term3 = np.dot(np.linalg.inv(np.dot(tau, cov_mat)), pi)\n",
    "term4 = np.dot(np.dot(np.transpose(P), np.linalg.inv(omega)), Q)\n",
    "\n",
    "# 블랙-리터만 모형에 기반한 사후 분포\n",
    "bl_cov_mat = np.linalg.inv(term1 + term2)\n",
    "bl_ret_vec = np.dot(bl_cov_mat, (term3 + term4))"
   ]
  },
  {
   "cell_type": "code",
   "execution_count": 21,
   "metadata": {},
   "outputs": [
    {
     "data": {
      "text/plain": [
       "array([[0.00208414, 0.00191559, 0.00162382, 0.0015968 , 0.00120811,\n",
       "        0.00053076, 0.00042739, 0.00062046, 0.00133226],\n",
       "       [0.00191559, 0.004171  , 0.00185643, 0.00177595, 0.0009877 ,\n",
       "        0.00053574, 0.00043276, 0.00058815, 0.00114807],\n",
       "       [0.00162382, 0.00185643, 0.0019748 , 0.0016844 , 0.00118882,\n",
       "        0.00058064, 0.00043645, 0.00063152, 0.00136056],\n",
       "       [0.0015968 , 0.00177595, 0.0016844 , 0.00172747, 0.00122037,\n",
       "        0.00059151, 0.00045701, 0.00061538, 0.00134663],\n",
       "       [0.00120811, 0.0009877 , 0.00118882, 0.00122037, 0.00189828,\n",
       "        0.00054868, 0.00031531, 0.00061859, 0.00150615],\n",
       "       [0.00053076, 0.00053574, 0.00058064, 0.00059151, 0.00054868,\n",
       "        0.0007184 , 0.00040071, 0.00039409, 0.00058269],\n",
       "       [0.00042739, 0.00043276, 0.00043645, 0.00045701, 0.00031531,\n",
       "        0.00040071, 0.00094085, 0.00029153, 0.00039963],\n",
       "       [0.00062046, 0.00058815, 0.00063152, 0.00061538, 0.00061859,\n",
       "        0.00039409, 0.00029153, 0.00074353, 0.00060956],\n",
       "       [0.00133226, 0.00114807, 0.00136056, 0.00134663, 0.00150615,\n",
       "        0.00058269, 0.00039963, 0.00060956, 0.00186084]])"
      ]
     },
     "execution_count": 21,
     "metadata": {},
     "output_type": "execute_result"
    }
   ],
   "source": [
    "bl_cov_mat"
   ]
  },
  {
   "cell_type": "code",
   "execution_count": 22,
   "metadata": {},
   "outputs": [
    {
     "data": {
      "text/plain": [
       "array([0.05564065, 0.05873473, 0.05901195, 0.05626066, 0.04933322,\n",
       "       0.03769424, 0.05673924, 0.04557911, 0.05305332])"
      ]
     },
     "execution_count": 22,
     "metadata": {},
     "output_type": "execute_result"
    }
   ],
   "source": [
    "bl_ret_vec"
   ]
  },
  {
   "cell_type": "markdown",
   "metadata": {},
   "source": [
    "bl_cov_mat, bl_ret_vec 를 MVO에 넣어"
   ]
  },
  {
   "cell_type": "code",
   "execution_count": 17,
   "metadata": {
    "id": "3kofQODdCjVw"
   },
   "outputs": [],
   "source": [
    "# MVO 모델 가중치 산출 함수\n",
    "def get_msr_weights(er, cov):\n",
    "\n",
    "    # 자산개수\n",
    "    noa = er.shape[0]\n",
    "\n",
    "    # 가중치 초기값\n",
    "    init_guess = np.repeat(1/noa, noa)\n",
    "\n",
    "    # 자산 가중치 상하한\n",
    "    bounds = ((0.0, 1.0), ) * noa\n",
    "\n",
    "    # 레버리지 불가 제약조건\n",
    "    weights_sum_to_1 = {'type': 'eq',\n",
    "                        'fun': lambda weights: np.sum(weights) - 1}\n",
    "\n",
    "    # 목적함수\n",
    "    def neg_sharpe(weights, er, cov):\n",
    "        r = weights.T @ er\n",
    "        vol = np.sqrt(weights.T @ cov @ weights)\n",
    "        return - r / vol\n",
    "\n",
    "    # 최적화 수행\n",
    "    res = minimize(neg_sharpe,\n",
    "                   init_guess,\n",
    "                   args=(er, cov),\n",
    "                   method='SLSQP',\n",
    "                   constraints=(weights_sum_to_1,),\n",
    "                   bounds=bounds)\n",
    "    \n",
    "    return res.x"
   ]
  },
  {
   "cell_type": "code",
   "execution_count": 18,
   "metadata": {
    "id": "EGv9ilO1CmL_"
   },
   "outputs": [],
   "source": [
    "# BL 포트폴리오 가중치\n",
    "bl_weights = get_msr_weights(bl_ret_vec, bl_cov_mat)\n",
    "\n",
    "# BL 포트폴리오 수익률\n",
    "bl_ret = np.dot(bl_weights, bl_ret_vec)\n",
    "\n",
    "# BL 포트폴리오 변동성\n",
    "bl_vol = np.sqrt(np.dot(bl_weights.T, np.dot(bl_cov_mat, bl_weights)))\n"
   ]
  },
  {
   "cell_type": "code",
   "execution_count": 19,
   "metadata": {
    "id": "_SO4l4xQCpTL"
   },
   "outputs": [
    {
     "name": "stdout",
     "output_type": "stream",
     "text": [
      "0.052268064197078586 0.02404497143855171\n"
     ]
    }
   ],
   "source": [
    "# BL 포트폴리오 수익률과 변동성\n",
    "print(bl_ret, bl_vol)"
   ]
  },
  {
   "cell_type": "code",
   "execution_count": 20,
   "metadata": {
    "id": "rFynsxTiDW1n"
   },
   "outputs": [
    {
     "data": {
      "image/png": "[encoded data removed]",
      "text/plain": [
       "<Figure size 700x700 with 1 Axes>"
      ]
     },
     "metadata": {},
     "output_type": "display_data"
    }
   ],
   "source": [
    "# 블랙-리터만 투자 가중치 데이터프레임\n",
    "bl_weights_df = pd.Series(bl_weights, index=tickers)\n",
    "\n",
    "# 파이차트 시각화\n",
    "plt.figure(figsize=(7, 7))\n",
    "wedgeprops = {'width':0.3, 'edgecolor':'w', 'linewidth':2}\n",
    "plt.pie(bl_weights_df, labels=bl_weights_df.index, autopct='%.1f%%', wedgeprops=wedgeprops, colors=pal)\n",
    "plt.show()"
   ]
  },
  {
   "cell_type": "code",
   "execution_count": null,
   "metadata": {},
   "outputs": [],
   "source": [
    "# 투자자 뷰 반영"
   ]
  }
 ],
 "metadata": {
  "kernelspec": {
   "display_name": "Python 3.11.4 64-bit ('3.11.4')",
   "language": "python",
   "name": "python3"
  },
  "language_info": {
   "codemirror_mode": {
    "name": "ipython",
    "version": 3
   },
   "file_extension": ".py",
   "mimetype": "text/x-python",
   "name": "python",
   "nbconvert_exporter": "python",
   "pygments_lexer": "ipython3",
   "version": "3.11.4"
  },
  "orig_nbformat": 4,
  "vscode": {
   "interpreter": {
    "hash": "254afc4915b5523c7e351d8aa78e4fe2886e37aa2334b3c2b629036e36c1190f"
   }
  }
 },
 "nbformat": 4,
 "nbformat_minor": 2
}
