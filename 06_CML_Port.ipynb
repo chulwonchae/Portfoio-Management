{
 "cells": [
  {
   "cell_type": "code",
   "execution_count": 1,
   "metadata": {},
   "outputs": [],
   "source": [
    "import numpy as np\n",
    "import pandas as pd\n",
    "import matplotlib.pyplot as plt\n",
    "import seaborn as sns\n",
    "import yfinance as yf\n",
    "import scipy.optimize as sco\n",
    "sns.set()"
   ]
  },
  {
   "cell_type": "markdown",
   "metadata": {},
   "source": [
    "### ETF Price Download"
   ]
  },
  {
   "cell_type": "code",
   "execution_count": 2,
   "metadata": {},
   "outputs": [
    {
     "name": "stderr",
     "output_type": "stream",
     "text": [
      "[*********************100%***********************]  9 of 9 completed\n"
     ]
    }
   ],
   "source": [
    "tickers = ['XLB', 'XLE', 'XLF', 'XLI', 'XLK', 'XLP', 'XLU', 'XLV', 'XLY']\n",
    "etf = yf.Tickers(tickers)\n",
    "data = etf.history(start= '2011-01-01', actions=False)\n",
    "data.drop(['Open','High','Low','Volume'], inplace=True, axis=1)\n",
    "data = data.droplevel(0, axis=1)"
   ]
  },
  {
   "cell_type": "code",
   "execution_count": 3,
   "metadata": {},
   "outputs": [],
   "source": [
    "rets = data.pct_change().fillna(0)\n",
    "er = rets.mean() * 252\n",
    "cov = rets.cov() *252\n"
   ]
  },
  {
   "cell_type": "code",
   "execution_count": 4,
   "metadata": {},
   "outputs": [
    {
     "data": {
      "text/html": [
       "<div>\n",
       "<style scoped>\n",
       "    .dataframe tbody tr th:only-of-type {\n",
       "        vertical-align: middle;\n",
       "    }\n",
       "\n",
       "    .dataframe tbody tr th {\n",
       "        vertical-align: top;\n",
       "    }\n",
       "\n",
       "    .dataframe thead th {\n",
       "        text-align: right;\n",
       "    }\n",
       "</style>\n",
       "<table border=\"1\" class=\"dataframe\">\n",
       "  <thead>\n",
       "    <tr style=\"text-align: right;\">\n",
       "      <th>Ticker</th>\n",
       "      <th>XLB</th>\n",
       "      <th>XLE</th>\n",
       "      <th>XLF</th>\n",
       "      <th>XLI</th>\n",
       "      <th>XLK</th>\n",
       "      <th>XLP</th>\n",
       "      <th>XLU</th>\n",
       "      <th>XLV</th>\n",
       "      <th>XLY</th>\n",
       "    </tr>\n",
       "    <tr>\n",
       "      <th>Ticker</th>\n",
       "      <th></th>\n",
       "      <th></th>\n",
       "      <th></th>\n",
       "      <th></th>\n",
       "      <th></th>\n",
       "      <th></th>\n",
       "      <th></th>\n",
       "      <th></th>\n",
       "      <th></th>\n",
       "    </tr>\n",
       "  </thead>\n",
       "  <tbody>\n",
       "    <tr>\n",
       "      <th>XLB</th>\n",
       "      <td>0.042813</td>\n",
       "      <td>0.041617</td>\n",
       "      <td>0.037685</td>\n",
       "      <td>0.035554</td>\n",
       "      <td>0.032283</td>\n",
       "      <td>0.018853</td>\n",
       "      <td>0.019343</td>\n",
       "      <td>0.024013</td>\n",
       "      <td>0.031583</td>\n",
       "    </tr>\n",
       "    <tr>\n",
       "      <th>XLE</th>\n",
       "      <td>0.041617</td>\n",
       "      <td>0.077772</td>\n",
       "      <td>0.043248</td>\n",
       "      <td>0.038527</td>\n",
       "      <td>0.030594</td>\n",
       "      <td>0.018054</td>\n",
       "      <td>0.019328</td>\n",
       "      <td>0.023713</td>\n",
       "      <td>0.030454</td>\n",
       "    </tr>\n",
       "    <tr>\n",
       "      <th>XLF</th>\n",
       "      <td>0.037685</td>\n",
       "      <td>0.043248</td>\n",
       "      <td>0.048326</td>\n",
       "      <td>0.037386</td>\n",
       "      <td>0.033146</td>\n",
       "      <td>0.019957</td>\n",
       "      <td>0.019750</td>\n",
       "      <td>0.025701</td>\n",
       "      <td>0.033312</td>\n",
       "    </tr>\n",
       "    <tr>\n",
       "      <th>XLI</th>\n",
       "      <td>0.035554</td>\n",
       "      <td>0.038527</td>\n",
       "      <td>0.037386</td>\n",
       "      <td>0.037448</td>\n",
       "      <td>0.031714</td>\n",
       "      <td>0.018746</td>\n",
       "      <td>0.019098</td>\n",
       "      <td>0.023599</td>\n",
       "      <td>0.031221</td>\n",
       "    </tr>\n",
       "    <tr>\n",
       "      <th>XLK</th>\n",
       "      <td>0.032283</td>\n",
       "      <td>0.030594</td>\n",
       "      <td>0.033146</td>\n",
       "      <td>0.031714</td>\n",
       "      <td>0.046138</td>\n",
       "      <td>0.018774</td>\n",
       "      <td>0.017344</td>\n",
       "      <td>0.025142</td>\n",
       "      <td>0.036646</td>\n",
       "    </tr>\n",
       "    <tr>\n",
       "      <th>XLP</th>\n",
       "      <td>0.018853</td>\n",
       "      <td>0.018054</td>\n",
       "      <td>0.019957</td>\n",
       "      <td>0.018746</td>\n",
       "      <td>0.018774</td>\n",
       "      <td>0.019319</td>\n",
       "      <td>0.017551</td>\n",
       "      <td>0.016606</td>\n",
       "      <td>0.017876</td>\n",
       "    </tr>\n",
       "    <tr>\n",
       "      <th>XLU</th>\n",
       "      <td>0.019343</td>\n",
       "      <td>0.019328</td>\n",
       "      <td>0.019750</td>\n",
       "      <td>0.019098</td>\n",
       "      <td>0.017344</td>\n",
       "      <td>0.017551</td>\n",
       "      <td>0.031665</td>\n",
       "      <td>0.016544</td>\n",
       "      <td>0.016686</td>\n",
       "    </tr>\n",
       "    <tr>\n",
       "      <th>XLV</th>\n",
       "      <td>0.024013</td>\n",
       "      <td>0.023713</td>\n",
       "      <td>0.025701</td>\n",
       "      <td>0.023599</td>\n",
       "      <td>0.025142</td>\n",
       "      <td>0.016606</td>\n",
       "      <td>0.016544</td>\n",
       "      <td>0.026478</td>\n",
       "      <td>0.022873</td>\n",
       "    </tr>\n",
       "    <tr>\n",
       "      <th>XLY</th>\n",
       "      <td>0.031583</td>\n",
       "      <td>0.030454</td>\n",
       "      <td>0.033312</td>\n",
       "      <td>0.031221</td>\n",
       "      <td>0.036646</td>\n",
       "      <td>0.017876</td>\n",
       "      <td>0.016686</td>\n",
       "      <td>0.022873</td>\n",
       "      <td>0.040089</td>\n",
       "    </tr>\n",
       "  </tbody>\n",
       "</table>\n",
       "</div>"
      ],
      "text/plain": [
       "Ticker       XLB       XLE       XLF       XLI       XLK       XLP       XLU  \\\n",
       "Ticker                                                                         \n",
       "XLB     0.042813  0.041617  0.037685  0.035554  0.032283  0.018853  0.019343   \n",
       "XLE     0.041617  0.077772  0.043248  0.038527  0.030594  0.018054  0.019328   \n",
       "XLF     0.037685  0.043248  0.048326  0.037386  0.033146  0.019957  0.019750   \n",
       "XLI     0.035554  0.038527  0.037386  0.037448  0.031714  0.018746  0.019098   \n",
       "XLK     0.032283  0.030594  0.033146  0.031714  0.046138  0.018774  0.017344   \n",
       "XLP     0.018853  0.018054  0.019957  0.018746  0.018774  0.019319  0.017551   \n",
       "XLU     0.019343  0.019328  0.019750  0.019098  0.017344  0.017551  0.031665   \n",
       "XLV     0.024013  0.023713  0.025701  0.023599  0.025142  0.016606  0.016544   \n",
       "XLY     0.031583  0.030454  0.033312  0.031221  0.036646  0.017876  0.016686   \n",
       "\n",
       "Ticker       XLV       XLY  \n",
       "Ticker                      \n",
       "XLB     0.024013  0.031583  \n",
       "XLE     0.023713  0.030454  \n",
       "XLF     0.025701  0.033312  \n",
       "XLI     0.023599  0.031221  \n",
       "XLK     0.025142  0.036646  \n",
       "XLP     0.016606  0.017876  \n",
       "XLU     0.016544  0.016686  \n",
       "XLV     0.026478  0.022873  \n",
       "XLY     0.022873  0.040089  "
      ]
     },
     "execution_count": 4,
     "metadata": {},
     "output_type": "execute_result"
    }
   ],
   "source": [
    "cov"
   ]
  },
  {
   "cell_type": "code",
   "execution_count": 6,
   "metadata": {},
   "outputs": [
    {
     "data": {
      "text/html": [
       "<div>\n",
       "<style scoped>\n",
       "    .dataframe tbody tr th:only-of-type {\n",
       "        vertical-align: middle;\n",
       "    }\n",
       "\n",
       "    .dataframe tbody tr th {\n",
       "        vertical-align: top;\n",
       "    }\n",
       "\n",
       "    .dataframe thead th {\n",
       "        text-align: right;\n",
       "    }\n",
       "</style>\n",
       "<table border=\"1\" class=\"dataframe\">\n",
       "  <thead>\n",
       "    <tr style=\"text-align: right;\">\n",
       "      <th>Ticker</th>\n",
       "      <th>XLB</th>\n",
       "      <th>XLE</th>\n",
       "      <th>XLF</th>\n",
       "      <th>XLI</th>\n",
       "      <th>XLK</th>\n",
       "      <th>XLP</th>\n",
       "      <th>XLU</th>\n",
       "      <th>XLV</th>\n",
       "      <th>XLY</th>\n",
       "    </tr>\n",
       "    <tr>\n",
       "      <th>Date</th>\n",
       "      <th></th>\n",
       "      <th></th>\n",
       "      <th></th>\n",
       "      <th></th>\n",
       "      <th></th>\n",
       "      <th></th>\n",
       "      <th></th>\n",
       "      <th></th>\n",
       "      <th></th>\n",
       "    </tr>\n",
       "  </thead>\n",
       "  <tbody>\n",
       "    <tr>\n",
       "      <th>2011-01-03 00:00:00+00:00</th>\n",
       "      <td>0.000000</td>\n",
       "      <td>0.000000</td>\n",
       "      <td>0.000000</td>\n",
       "      <td>0.000000</td>\n",
       "      <td>0.000000</td>\n",
       "      <td>0.000000</td>\n",
       "      <td>0.000000</td>\n",
       "      <td>0.000000</td>\n",
       "      <td>0.000000</td>\n",
       "    </tr>\n",
       "    <tr>\n",
       "      <th>2011-01-04 00:00:00+00:00</th>\n",
       "      <td>-0.006715</td>\n",
       "      <td>-0.008581</td>\n",
       "      <td>-0.001227</td>\n",
       "      <td>-0.001423</td>\n",
       "      <td>0.003926</td>\n",
       "      <td>-0.002725</td>\n",
       "      <td>0.004764</td>\n",
       "      <td>0.003146</td>\n",
       "      <td>-0.005548</td>\n",
       "    </tr>\n",
       "    <tr>\n",
       "      <th>2011-01-05 00:00:00+00:00</th>\n",
       "      <td>0.002341</td>\n",
       "      <td>0.003961</td>\n",
       "      <td>0.011671</td>\n",
       "      <td>0.005133</td>\n",
       "      <td>0.005867</td>\n",
       "      <td>0.000341</td>\n",
       "      <td>-0.006321</td>\n",
       "      <td>0.002195</td>\n",
       "      <td>0.008236</td>\n",
       "    </tr>\n",
       "    <tr>\n",
       "      <th>2011-01-06 00:00:00+00:00</th>\n",
       "      <td>-0.005188</td>\n",
       "      <td>-0.009497</td>\n",
       "      <td>-0.006679</td>\n",
       "      <td>-0.001702</td>\n",
       "      <td>0.005832</td>\n",
       "      <td>-0.003415</td>\n",
       "      <td>0.000954</td>\n",
       "      <td>0.004068</td>\n",
       "      <td>-0.006060</td>\n",
       "    </tr>\n",
       "    <tr>\n",
       "      <th>2011-01-07 00:00:00+00:00</th>\n",
       "      <td>-0.001043</td>\n",
       "      <td>0.007228</td>\n",
       "      <td>-0.008558</td>\n",
       "      <td>0.001989</td>\n",
       "      <td>-0.004639</td>\n",
       "      <td>-0.005141</td>\n",
       "      <td>0.003495</td>\n",
       "      <td>-0.000623</td>\n",
       "      <td>-0.000531</td>\n",
       "    </tr>\n",
       "    <tr>\n",
       "      <th>...</th>\n",
       "      <td>...</td>\n",
       "      <td>...</td>\n",
       "      <td>...</td>\n",
       "      <td>...</td>\n",
       "      <td>...</td>\n",
       "      <td>...</td>\n",
       "      <td>...</td>\n",
       "      <td>...</td>\n",
       "      <td>...</td>\n",
       "    </tr>\n",
       "    <tr>\n",
       "      <th>2024-08-27 00:00:00+00:00</th>\n",
       "      <td>0.000107</td>\n",
       "      <td>-0.009320</td>\n",
       "      <td>0.005160</td>\n",
       "      <td>0.000619</td>\n",
       "      <td>0.006059</td>\n",
       "      <td>0.002427</td>\n",
       "      <td>-0.007904</td>\n",
       "      <td>0.001545</td>\n",
       "      <td>-0.002629</td>\n",
       "    </tr>\n",
       "    <tr>\n",
       "      <th>2024-08-28 00:00:00+00:00</th>\n",
       "      <td>-0.004294</td>\n",
       "      <td>-0.006420</td>\n",
       "      <td>0.002455</td>\n",
       "      <td>-0.000464</td>\n",
       "      <td>-0.013798</td>\n",
       "      <td>-0.004236</td>\n",
       "      <td>0.000000</td>\n",
       "      <td>0.001157</td>\n",
       "      <td>-0.009682</td>\n",
       "    </tr>\n",
       "    <tr>\n",
       "      <th>2024-08-29 00:00:00+00:00</th>\n",
       "      <td>0.005499</td>\n",
       "      <td>0.013033</td>\n",
       "      <td>0.008907</td>\n",
       "      <td>0.007046</td>\n",
       "      <td>-0.009024</td>\n",
       "      <td>-0.004984</td>\n",
       "      <td>0.005444</td>\n",
       "      <td>0.002118</td>\n",
       "      <td>0.001195</td>\n",
       "    </tr>\n",
       "    <tr>\n",
       "      <th>2024-08-30 00:00:00+00:00</th>\n",
       "      <td>0.010937</td>\n",
       "      <td>0.003739</td>\n",
       "      <td>0.009490</td>\n",
       "      <td>0.010687</td>\n",
       "      <td>0.013291</td>\n",
       "      <td>0.007940</td>\n",
       "      <td>0.007528</td>\n",
       "      <td>0.006918</td>\n",
       "      <td>0.015081</td>\n",
       "    </tr>\n",
       "    <tr>\n",
       "      <th>2024-09-03 00:00:00+00:00</th>\n",
       "      <td>-0.016208</td>\n",
       "      <td>-0.025800</td>\n",
       "      <td>-0.001968</td>\n",
       "      <td>-0.016545</td>\n",
       "      <td>-0.029002</td>\n",
       "      <td>0.006423</td>\n",
       "      <td>-0.001311</td>\n",
       "      <td>0.001686</td>\n",
       "      <td>-0.005879</td>\n",
       "    </tr>\n",
       "  </tbody>\n",
       "</table>\n",
       "<p>3439 rows × 9 columns</p>\n",
       "</div>"
      ],
      "text/plain": [
       "Ticker                          XLB       XLE       XLF       XLI       XLK  \\\n",
       "Date                                                                          \n",
       "2011-01-03 00:00:00+00:00  0.000000  0.000000  0.000000  0.000000  0.000000   \n",
       "2011-01-04 00:00:00+00:00 -0.006715 -0.008581 -0.001227 -0.001423  0.003926   \n",
       "2011-01-05 00:00:00+00:00  0.002341  0.003961  0.011671  0.005133  0.005867   \n",
       "2011-01-06 00:00:00+00:00 -0.005188 -0.009497 -0.006679 -0.001702  0.005832   \n",
       "2011-01-07 00:00:00+00:00 -0.001043  0.007228 -0.008558  0.001989 -0.004639   \n",
       "...                             ...       ...       ...       ...       ...   \n",
       "2024-08-27 00:00:00+00:00  0.000107 -0.009320  0.005160  0.000619  0.006059   \n",
       "2024-08-28 00:00:00+00:00 -0.004294 -0.006420  0.002455 -0.000464 -0.013798   \n",
       "2024-08-29 00:00:00+00:00  0.005499  0.013033  0.008907  0.007046 -0.009024   \n",
       "2024-08-30 00:00:00+00:00  0.010937  0.003739  0.009490  0.010687  0.013291   \n",
       "2024-09-03 00:00:00+00:00 -0.016208 -0.025800 -0.001968 -0.016545 -0.029002   \n",
       "\n",
       "Ticker                          XLP       XLU       XLV       XLY  \n",
       "Date                                                               \n",
       "2011-01-03 00:00:00+00:00  0.000000  0.000000  0.000000  0.000000  \n",
       "2011-01-04 00:00:00+00:00 -0.002725  0.004764  0.003146 -0.005548  \n",
       "2011-01-05 00:00:00+00:00  0.000341 -0.006321  0.002195  0.008236  \n",
       "2011-01-06 00:00:00+00:00 -0.003415  0.000954  0.004068 -0.006060  \n",
       "2011-01-07 00:00:00+00:00 -0.005141  0.003495 -0.000623 -0.000531  \n",
       "...                             ...       ...       ...       ...  \n",
       "2024-08-27 00:00:00+00:00  0.002427 -0.007904  0.001545 -0.002629  \n",
       "2024-08-28 00:00:00+00:00 -0.004236  0.000000  0.001157 -0.009682  \n",
       "2024-08-29 00:00:00+00:00 -0.004984  0.005444  0.002118  0.001195  \n",
       "2024-08-30 00:00:00+00:00  0.007940  0.007528  0.006918  0.015081  \n",
       "2024-09-03 00:00:00+00:00  0.006423 -0.001311  0.001686 -0.005879  \n",
       "\n",
       "[3439 rows x 9 columns]"
      ]
     },
     "execution_count": 6,
     "metadata": {},
     "output_type": "execute_result"
    }
   ],
   "source": [
    "rets"
   ]
  },
  {
   "cell_type": "markdown",
   "metadata": {},
   "source": [
    "### Maximum Sharpe"
   ]
  },
  {
   "cell_type": "code",
   "execution_count": 8,
   "metadata": {},
   "outputs": [],
   "source": [
    "def get_msr_weights(er,cov):\n",
    "    noa = er.shape[0]\n",
    "    init_guess = np.repeat(1/noa, noa)\n",
    "    bounds = ((0.0,1.0),) * noa # make 0~1사이 값을 noa개 생성\n",
    "    # no leverage const \n",
    "    weights_sum_to_1 = {'type': 'eq',\n",
    "                        'fun': lambda weights : np.sum(weights)-1}  # sum of the weight should be 1\n",
    "\n",
    "# objective function  : scipy minimize 사용할거니까 negative\n",
    "    def neg_sharpe(weights,er,cov):\n",
    "        r = weights.T @ er\n",
    "        vol = np.sqrt(weights.T @ cov @ weights)\n",
    "        return - r/vol\n",
    "\n",
    "#optimization \n",
    "    res = sco.minimize(neg_sharpe,\n",
    "                       init_guess,\n",
    "                       args=(er, cov),\n",
    "                       method='SLSQP',\n",
    "                       constraints=(weights_sum_to_1,),\n",
    "                       bounds=bounds)\n",
    "    return res.x"
   ]
  },
  {
   "cell_type": "code",
   "execution_count": 9,
   "metadata": {},
   "outputs": [
    {
     "data": {
      "text/plain": [
       "array([0.00000000e+00, 4.41117683e-17, 0.00000000e+00, 8.40587880e-17,\n",
       "       3.50947139e-01, 1.74946127e-01, 8.52324812e-02, 3.88874252e-01,\n",
       "       0.00000000e+00])"
      ]
     },
     "execution_count": 9,
     "metadata": {},
     "output_type": "execute_result"
    }
   ],
   "source": [
    "msr_weights = get_msr_weights(er, cov)\n",
    "msr_weights"
   ]
  },
  {
   "cell_type": "code",
   "execution_count": 10,
   "metadata": {},
   "outputs": [
    {
     "data": {
      "text/plain": [
       "0.15448884696197918"
      ]
     },
     "execution_count": 10,
     "metadata": {},
     "output_type": "execute_result"
    }
   ],
   "source": [
    "msr_ret = np.dot(msr_weights, er)\n",
    "msr_ret"
   ]
  },
  {
   "cell_type": "code",
   "execution_count": 11,
   "metadata": {},
   "outputs": [
    {
     "data": {
      "text/plain": [
       "0.15682073866466217"
      ]
     },
     "execution_count": 11,
     "metadata": {},
     "output_type": "execute_result"
    }
   ],
   "source": [
    "msr_vol = np.sqrt(np.dot(msr_weights.T, np.dot(cov, msr_weights)))\n",
    "msr_vol"
   ]
  },
  {
   "cell_type": "code",
   "execution_count": 12,
   "metadata": {},
   "outputs": [
    {
     "name": "stdout",
     "output_type": "stream",
     "text": [
      "Return = 0.15448884696197918\n",
      "Volatility = 0.15682073866466217\n"
     ]
    }
   ],
   "source": [
    "print('Return = {}'.format(msr_ret))\n",
    "print('Volatility = {}'.format(msr_vol))"
   ]
  },
  {
   "cell_type": "code",
   "execution_count": 13,
   "metadata": {},
   "outputs": [
    {
     "data": {
      "text/plain": [
       "<Axes: >"
      ]
     },
     "execution_count": 13,
     "metadata": {},
     "output_type": "execute_result"
    },
    {
     "data": {
      "image/png": "[encoded data removed]",
      "text/plain": [
       "<Figure size 640x480 with 1 Axes>"
      ]
     },
     "metadata": {},
     "output_type": "display_data"
    }
   ],
   "source": [
    "msr_weights_series = pd.Series(np.round(msr_weights, 4) * 100, index=tickers)\n",
    "msr_weights_series.plot.bar()"
   ]
  },
  {
   "cell_type": "markdown",
   "metadata": {
    "id": "YaMIqDkot4e1"
   },
   "source": [
    "### Capital Market Line"
   ]
  },
  {
   "cell_type": "code",
   "execution_count": 15,
   "metadata": {
    "id": "ubJJ05nNu61i"
   },
   "outputs": [],
   "source": [
    "# PF's stat\n",
    "def statistics(weights):\n",
    "    weights = np.array(weights)\n",
    "    pret = np.sum(er * weights)\n",
    "    pvol = np.sqrt(np.dot(weights.T, np.dot(cov, weights)))\n",
    "    return np.array([pret, pvol, pret/pvol])\n",
    "\n",
    "# objective function : \n",
    "def obj_func(weights):\n",
    "    return statistics(weights)[1]  # pvol"
   ]
  },
  {
   "cell_type": "code",
   "execution_count": 16,
   "metadata": {
    "id": "uCtvPtnru2Xo"
   },
   "outputs": [],
   "source": [
    "noa = len(tickers)\n",
    "\n",
    "trets = np.linspace(0.1, 0.15, 50) # 0.10~0.15 까지 균등 분할\n",
    "tvols = []\n",
    "\n",
    "for tret in trets:\n",
    "\n",
    "\n",
    "    init_guess = np.repeat(1/noa, noa) # array([0.11111111, 0.11111111, 0.11111111....)\n",
    "\n",
    "    # const = 1. pret = tret 2. weight sum = 1\n",
    "    cons = ({'type': 'eq', 'fun': lambda x: statistics(x)[0] - tret},\n",
    "            {'type': 'eq', 'fun': lambda x: np.sum(x) - 1})\n",
    "    \n",
    "    bnds = ((0.0, 1.0), ) * noa\n",
    "\n",
    "    res = sco.minimize(obj_func,\n",
    "                       init_guess,\n",
    "                       method='SLSQP',\n",
    "                       bounds=bnds,\n",
    "                       constraints=cons)\n",
    "\n",
    "    tvols.append(res['fun'])\n",
    "\n",
    "tvols = np.array(tvols)"
   ]
  },
  {
   "cell_type": "code",
   "execution_count": 26,
   "metadata": {},
   "outputs": [
    {
     "data": {
      "text/plain": [
       "array([0.11111111, 0.11111111, 0.11111111, 0.11111111, 0.11111111,\n",
       "       0.11111111, 0.11111111, 0.11111111, 0.11111111])"
      ]
     },
     "execution_count": 26,
     "metadata": {},
     "output_type": "execute_result"
    }
   ],
   "source": [
    "init_guess"
   ]
  },
  {
   "cell_type": "code",
   "execution_count": 18,
   "metadata": {},
   "outputs": [
    {
     "data": {
      "text/plain": [
       "array([0.19933274, 0.19085602, 0.18278461, 0.17517455, 0.16808851,\n",
       "       0.16159545, 0.15576953, 0.15068815, 0.14642884, 0.14304235,\n",
       "       0.14052366, 0.13891551, 0.13820961, 0.13777999, 0.13740693,\n",
       "       0.13709101, 0.13683363, 0.1366324 , 0.13649095, 0.13642009,\n",
       "       0.13642904, 0.13651706, 0.13667444, 0.13688899, 0.1371282 ,\n",
       "       0.13739493, 0.137695  , 0.13802536, 0.13838638, 0.13877775,\n",
       "       0.13919916, 0.13965031, 0.14013099, 0.14064086, 0.14117962,\n",
       "       0.14174691, 0.1423428 , 0.1429659 , 0.14361658, 0.14429451,\n",
       "       0.14499919, 0.14574155, 0.14649611, 0.14727659, 0.14808284,\n",
       "       0.14891412, 0.14977022, 0.15064867, 0.1515522 , 0.15247893])"
      ]
     },
     "execution_count": 18,
     "metadata": {},
     "output_type": "execute_result"
    }
   ],
   "source": [
    "tvols"
   ]
  },
  {
   "cell_type": "code",
   "execution_count": 17,
   "metadata": {
    "id": "5NDJmDFpu0h0"
   },
   "outputs": [],
   "source": [
    "ind = np.argmin(tvols) # indicator, min tvols 20th\n",
    "evols = tvols[ind:]\n",
    "erets = trets[ind:]"
   ]
  },
  {
   "cell_type": "code",
   "execution_count": 19,
   "metadata": {},
   "outputs": [
    {
     "data": {
      "text/plain": [
       "19"
      ]
     },
     "execution_count": 19,
     "metadata": {},
     "output_type": "execute_result"
    }
   ],
   "source": [
    "ind"
   ]
  },
  {
   "cell_type": "code",
   "execution_count": 20,
   "metadata": {},
   "outputs": [
    {
     "data": {
      "text/plain": [
       "array([0.13642009, 0.13642904, 0.13651706, 0.13667444, 0.13688899,\n",
       "       0.1371282 , 0.13739493, 0.137695  , 0.13802536, 0.13838638,\n",
       "       0.13877775, 0.13919916, 0.13965031, 0.14013099, 0.14064086,\n",
       "       0.14117962, 0.14174691, 0.1423428 , 0.1429659 , 0.14361658,\n",
       "       0.14429451, 0.14499919, 0.14574155, 0.14649611, 0.14727659,\n",
       "       0.14808284, 0.14891412, 0.14977022, 0.15064867, 0.1515522 ,\n",
       "       0.15247893])"
      ]
     },
     "execution_count": 20,
     "metadata": {},
     "output_type": "execute_result"
    }
   ],
   "source": [
    "evols"
   ]
  },
  {
   "cell_type": "code",
   "execution_count": 21,
   "metadata": {},
   "outputs": [
    {
     "data": {
      "text/plain": [
       "array([0.11938776, 0.12040816, 0.12142857, 0.12244898, 0.12346939,\n",
       "       0.1244898 , 0.1255102 , 0.12653061, 0.12755102, 0.12857143,\n",
       "       0.12959184, 0.13061224, 0.13163265, 0.13265306, 0.13367347,\n",
       "       0.13469388, 0.13571429, 0.13673469, 0.1377551 , 0.13877551,\n",
       "       0.13979592, 0.14081633, 0.14183673, 0.14285714, 0.14387755,\n",
       "       0.14489796, 0.14591837, 0.14693878, 0.14795918, 0.14897959,\n",
       "       0.15      ])"
      ]
     },
     "execution_count": 21,
     "metadata": {},
     "output_type": "execute_result"
    }
   ],
   "source": [
    "erets"
   ]
  },
  {
   "cell_type": "code",
   "execution_count": 22,
   "metadata": {
    "id": "_s0bu9TPR6V0"
   },
   "outputs": [
    {
     "data": {
      "text/plain": [
       "0.15247892765553647"
      ]
     },
     "execution_count": 22,
     "metadata": {},
     "output_type": "execute_result"
    }
   ],
   "source": [
    "evols[-1]"
   ]
  },
  {
   "cell_type": "code",
   "execution_count": 33,
   "metadata": {
    "id": "dK6XhMzruri5"
   },
   "outputs": [
    {
     "data": {
      "text/plain": [
       "Text(0.5, 1.0, 'Market Portfolio & Capital Market Line')"
      ]
     },
     "execution_count": 33,
     "metadata": {},
     "output_type": "execute_result"
    },
    {
     "data": {
      "image/png": "[encoded data removed]",
      "text/plain": [
       "<Figure size 1500x900 with 1 Axes>"
      ]
     },
     "metadata": {},
     "output_type": "display_data"
    }
   ],
   "source": [
    "# 자본시장선 데이터\n",
    "x = np.linspace(0.1, evols[-1], 100)\n",
    "y = (msr_ret / msr_vol) * x # 기울기 곱하기 x , 이게 자본시장선 \n",
    "\n",
    "# 효율적 경계선 및 자본시장선 시각화\n",
    "plt.figure(figsize=(15, 9))\n",
    "\n",
    "plt.scatter(tvols, trets, c=trets/tvols, marker='x')\n",
    "plt.plot(evols, erets, 'tab:red', lw=2.0)\n",
    "\n",
    "# 시장 포트폴리오\n",
    "plt.scatter(msr_vol, msr_ret, marker='*', s=400, color='tab:green')\n",
    "\n",
    "# 자본시장선\n",
    "plt.plot(x, y, 'tab:blue')\n",
    "\n",
    "plt.grid(True)\n",
    "\n",
    "plt.xlabel('Expected Volatility')\n",
    "plt.ylabel('Expected Return')\n",
    "\n",
    "plt.title('Market Portfolio & Capital Market Line')\n"
   ]
  },
  {
   "cell_type": "code",
   "execution_count": null,
   "metadata": {},
   "outputs": [],
   "source": []
  }
 ],
 "metadata": {
  "kernelspec": {
   "display_name": "Python 3.11.4 64-bit ('3.11.4')",
   "language": "python",
   "name": "python3"
  },
  "language_info": {
   "codemirror_mode": {
    "name": "ipython",
    "version": 3
   },
   "file_extension": ".py",
   "mimetype": "text/x-python",
   "name": "python",
   "nbconvert_exporter": "python",
   "pygments_lexer": "ipython3",
   "version": "3.11.4"
  },
  "orig_nbformat": 4,
  "vscode": {
   "interpreter": {
    "hash": "254afc4915b5523c7e351d8aa78e4fe2886e37aa2334b3c2b629036e36c1190f"
   }
  }
 },
 "nbformat": 4,
 "nbformat_minor": 2
}
