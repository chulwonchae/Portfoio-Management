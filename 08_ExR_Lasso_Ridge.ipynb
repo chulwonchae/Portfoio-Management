{
 "cells": [
  {
   "cell_type": "code",
   "execution_count": 7,
   "metadata": {},
   "outputs": [],
   "source": [
    "import numpy as np\n",
    "import pandas as pd\n",
    "import yfinance as yf\n",
    "import matplotlib.pyplot as plt\n",
    "import seaborn as sns\n",
    "import statsmodels.api as sm\n",
    "import getFamaFrenchFactors as gff\n",
    "from sklearn.linear_model import Ridge, Lasso\n",
    "sns.set()"
   ]
  },
  {
   "cell_type": "markdown",
   "metadata": {},
   "source": [
    "## Download the data"
   ]
  },
  {
   "cell_type": "code",
   "execution_count": 10,
   "metadata": {},
   "outputs": [
    {
     "name": "stderr",
     "output_type": "stream",
     "text": [
      "[*********************100%***********************]  1 of 1 completed\n",
      "/var/folders/h1/6sllxx6j0zb6l_hvj_9ys3qh0000gn/T/ipykernel_69176/3887865971.py:7: FutureWarning: 'M' is deprecated and will be removed in a future version, please use 'ME' instead.\n",
      "  stock_returns = stock_data['Adj Close'].resample('M').last().pct_change().dropna()\n"
     ]
    },
    {
     "data": {
      "text/plain": [
       "2001-02-28   -0.156069\n",
       "2001-03-31    0.209314\n",
       "2001-04-30    0.154963\n",
       "2001-05-31   -0.217341\n",
       "2001-06-30    0.165416\n",
       "                ...   \n",
       "2022-06-30   -0.081430\n",
       "2022-07-31    0.188634\n",
       "2022-08-31   -0.031208\n",
       "2022-09-30   -0.120977\n",
       "2022-10-31    0.005644\n",
       "Name: Month_Rtn, Length: 261, dtype: float64"
      ]
     },
     "execution_count": 10,
     "metadata": {},
     "output_type": "execute_result"
    }
   ],
   "source": [
    "ticker = 'AAPL'\n",
    "start = '2001-01-01'\n",
    "end = '2022-10-12'\n",
    "\n",
    "stock_data = yf.download(ticker, start, end)\n",
    "\n",
    "stock_returns = stock_data['Adj Close'].resample('M').last().pct_change().dropna()\n",
    "stock_returns.name = 'Month_Rtn'\n",
    "stock_returns.index = pd.to_datetime(stock_returns.index).date\n",
    "stock_returns"
   ]
  },
  {
   "cell_type": "markdown",
   "metadata": {},
   "source": [
    "## FF3 Factors"
   ]
  },
  {
   "cell_type": "code",
   "execution_count": 11,
   "metadata": {},
   "outputs": [
    {
     "data": {
      "text/html": [
       "<div>\n",
       "<style scoped>\n",
       "    .dataframe tbody tr th:only-of-type {\n",
       "        vertical-align: middle;\n",
       "    }\n",
       "\n",
       "    .dataframe tbody tr th {\n",
       "        vertical-align: top;\n",
       "    }\n",
       "\n",
       "    .dataframe thead th {\n",
       "        text-align: right;\n",
       "    }\n",
       "</style>\n",
       "<table border=\"1\" class=\"dataframe\">\n",
       "  <thead>\n",
       "    <tr style=\"text-align: right;\">\n",
       "      <th></th>\n",
       "      <th>Mkt-RF</th>\n",
       "      <th>SMB</th>\n",
       "      <th>HML</th>\n",
       "      <th>RF</th>\n",
       "      <th>Month_Rtn</th>\n",
       "    </tr>\n",
       "  </thead>\n",
       "  <tbody>\n",
       "    <tr>\n",
       "      <th>2001-02-28</th>\n",
       "      <td>-0.1005</td>\n",
       "      <td>-0.0078</td>\n",
       "      <td>0.1247</td>\n",
       "      <td>0.0038</td>\n",
       "      <td>-0.156069</td>\n",
       "    </tr>\n",
       "    <tr>\n",
       "      <th>2001-03-31</th>\n",
       "      <td>-0.0726</td>\n",
       "      <td>0.0025</td>\n",
       "      <td>0.0642</td>\n",
       "      <td>0.0042</td>\n",
       "      <td>0.209314</td>\n",
       "    </tr>\n",
       "    <tr>\n",
       "      <th>2001-04-30</th>\n",
       "      <td>0.0794</td>\n",
       "      <td>0.0055</td>\n",
       "      <td>-0.0467</td>\n",
       "      <td>0.0039</td>\n",
       "      <td>0.154963</td>\n",
       "    </tr>\n",
       "    <tr>\n",
       "      <th>2001-05-31</th>\n",
       "      <td>0.0072</td>\n",
       "      <td>0.0250</td>\n",
       "      <td>0.0336</td>\n",
       "      <td>0.0032</td>\n",
       "      <td>-0.217341</td>\n",
       "    </tr>\n",
       "    <tr>\n",
       "      <th>2001-06-30</th>\n",
       "      <td>-0.0194</td>\n",
       "      <td>0.0624</td>\n",
       "      <td>-0.0112</td>\n",
       "      <td>0.0028</td>\n",
       "      <td>0.165416</td>\n",
       "    </tr>\n",
       "    <tr>\n",
       "      <th>...</th>\n",
       "      <td>...</td>\n",
       "      <td>...</td>\n",
       "      <td>...</td>\n",
       "      <td>...</td>\n",
       "      <td>...</td>\n",
       "    </tr>\n",
       "    <tr>\n",
       "      <th>2022-06-30</th>\n",
       "      <td>-0.0844</td>\n",
       "      <td>0.0218</td>\n",
       "      <td>-0.0610</td>\n",
       "      <td>0.0006</td>\n",
       "      <td>-0.081430</td>\n",
       "    </tr>\n",
       "    <tr>\n",
       "      <th>2022-07-31</th>\n",
       "      <td>0.0957</td>\n",
       "      <td>0.0280</td>\n",
       "      <td>-0.0403</td>\n",
       "      <td>0.0008</td>\n",
       "      <td>0.188634</td>\n",
       "    </tr>\n",
       "    <tr>\n",
       "      <th>2022-08-31</th>\n",
       "      <td>-0.0377</td>\n",
       "      <td>0.0140</td>\n",
       "      <td>0.0029</td>\n",
       "      <td>0.0019</td>\n",
       "      <td>-0.031208</td>\n",
       "    </tr>\n",
       "    <tr>\n",
       "      <th>2022-09-30</th>\n",
       "      <td>-0.0935</td>\n",
       "      <td>-0.0082</td>\n",
       "      <td>0.0002</td>\n",
       "      <td>0.0019</td>\n",
       "      <td>-0.120977</td>\n",
       "    </tr>\n",
       "    <tr>\n",
       "      <th>2022-10-31</th>\n",
       "      <td>0.0783</td>\n",
       "      <td>0.0007</td>\n",
       "      <td>0.0806</td>\n",
       "      <td>0.0023</td>\n",
       "      <td>0.005644</td>\n",
       "    </tr>\n",
       "  </tbody>\n",
       "</table>\n",
       "<p>261 rows × 5 columns</p>\n",
       "</div>"
      ],
      "text/plain": [
       "            Mkt-RF     SMB     HML      RF  Month_Rtn\n",
       "2001-02-28 -0.1005 -0.0078  0.1247  0.0038  -0.156069\n",
       "2001-03-31 -0.0726  0.0025  0.0642  0.0042   0.209314\n",
       "2001-04-30  0.0794  0.0055 -0.0467  0.0039   0.154963\n",
       "2001-05-31  0.0072  0.0250  0.0336  0.0032  -0.217341\n",
       "2001-06-30 -0.0194  0.0624 -0.0112  0.0028   0.165416\n",
       "...            ...     ...     ...     ...        ...\n",
       "2022-06-30 -0.0844  0.0218 -0.0610  0.0006  -0.081430\n",
       "2022-07-31  0.0957  0.0280 -0.0403  0.0008   0.188634\n",
       "2022-08-31 -0.0377  0.0140  0.0029  0.0019  -0.031208\n",
       "2022-09-30 -0.0935 -0.0082  0.0002  0.0019  -0.120977\n",
       "2022-10-31  0.0783  0.0007  0.0806  0.0023   0.005644\n",
       "\n",
       "[261 rows x 5 columns]"
      ]
     },
     "execution_count": 11,
     "metadata": {},
     "output_type": "execute_result"
    }
   ],
   "source": [
    "ff3_monthly = gff.famaFrench3Factor(frequency='m')\n",
    "ff3_monthly.rename(columns={'date_ff_factors': 'Date'}, inplace=True)\n",
    "ff3_monthly.set_index('Date', inplace=True)\n",
    "ff3_monthly.index = pd.to_datetime(ff3_monthly.index).date\n",
    "\n",
    "ff_data = pd.concat([ff3_monthly, stock_returns], axis=1, join='inner')\n",
    "ff_data"
   ]
  },
  {
   "cell_type": "code",
   "execution_count": 12,
   "metadata": {},
   "outputs": [
    {
     "data": {
      "text/html": [
       "<div>\n",
       "<style scoped>\n",
       "    .dataframe tbody tr th:only-of-type {\n",
       "        vertical-align: middle;\n",
       "    }\n",
       "\n",
       "    .dataframe tbody tr th {\n",
       "        vertical-align: top;\n",
       "    }\n",
       "\n",
       "    .dataframe thead th {\n",
       "        text-align: right;\n",
       "    }\n",
       "</style>\n",
       "<table border=\"1\" class=\"dataframe\">\n",
       "  <thead>\n",
       "    <tr style=\"text-align: right;\">\n",
       "      <th></th>\n",
       "      <th>beta</th>\n",
       "      <th>size</th>\n",
       "      <th>value</th>\n",
       "      <th>rf</th>\n",
       "      <th>ret</th>\n",
       "    </tr>\n",
       "  </thead>\n",
       "  <tbody>\n",
       "    <tr>\n",
       "      <th>2001-02-28</th>\n",
       "      <td>-0.1005</td>\n",
       "      <td>-0.0078</td>\n",
       "      <td>0.1247</td>\n",
       "      <td>0.0038</td>\n",
       "      <td>-0.156069</td>\n",
       "    </tr>\n",
       "    <tr>\n",
       "      <th>2001-03-31</th>\n",
       "      <td>-0.0726</td>\n",
       "      <td>0.0025</td>\n",
       "      <td>0.0642</td>\n",
       "      <td>0.0042</td>\n",
       "      <td>0.209314</td>\n",
       "    </tr>\n",
       "    <tr>\n",
       "      <th>2001-04-30</th>\n",
       "      <td>0.0794</td>\n",
       "      <td>0.0055</td>\n",
       "      <td>-0.0467</td>\n",
       "      <td>0.0039</td>\n",
       "      <td>0.154963</td>\n",
       "    </tr>\n",
       "    <tr>\n",
       "      <th>2001-05-31</th>\n",
       "      <td>0.0072</td>\n",
       "      <td>0.0250</td>\n",
       "      <td>0.0336</td>\n",
       "      <td>0.0032</td>\n",
       "      <td>-0.217341</td>\n",
       "    </tr>\n",
       "    <tr>\n",
       "      <th>2001-06-30</th>\n",
       "      <td>-0.0194</td>\n",
       "      <td>0.0624</td>\n",
       "      <td>-0.0112</td>\n",
       "      <td>0.0028</td>\n",
       "      <td>0.165416</td>\n",
       "    </tr>\n",
       "    <tr>\n",
       "      <th>...</th>\n",
       "      <td>...</td>\n",
       "      <td>...</td>\n",
       "      <td>...</td>\n",
       "      <td>...</td>\n",
       "      <td>...</td>\n",
       "    </tr>\n",
       "    <tr>\n",
       "      <th>2022-06-30</th>\n",
       "      <td>-0.0844</td>\n",
       "      <td>0.0218</td>\n",
       "      <td>-0.0610</td>\n",
       "      <td>0.0006</td>\n",
       "      <td>-0.081430</td>\n",
       "    </tr>\n",
       "    <tr>\n",
       "      <th>2022-07-31</th>\n",
       "      <td>0.0957</td>\n",
       "      <td>0.0280</td>\n",
       "      <td>-0.0403</td>\n",
       "      <td>0.0008</td>\n",
       "      <td>0.188634</td>\n",
       "    </tr>\n",
       "    <tr>\n",
       "      <th>2022-08-31</th>\n",
       "      <td>-0.0377</td>\n",
       "      <td>0.0140</td>\n",
       "      <td>0.0029</td>\n",
       "      <td>0.0019</td>\n",
       "      <td>-0.031208</td>\n",
       "    </tr>\n",
       "    <tr>\n",
       "      <th>2022-09-30</th>\n",
       "      <td>-0.0935</td>\n",
       "      <td>-0.0082</td>\n",
       "      <td>0.0002</td>\n",
       "      <td>0.0019</td>\n",
       "      <td>-0.120977</td>\n",
       "    </tr>\n",
       "    <tr>\n",
       "      <th>2022-10-31</th>\n",
       "      <td>0.0783</td>\n",
       "      <td>0.0007</td>\n",
       "      <td>0.0806</td>\n",
       "      <td>0.0023</td>\n",
       "      <td>0.005644</td>\n",
       "    </tr>\n",
       "  </tbody>\n",
       "</table>\n",
       "<p>261 rows × 5 columns</p>\n",
       "</div>"
      ],
      "text/plain": [
       "              beta    size   value      rf       ret\n",
       "2001-02-28 -0.1005 -0.0078  0.1247  0.0038 -0.156069\n",
       "2001-03-31 -0.0726  0.0025  0.0642  0.0042  0.209314\n",
       "2001-04-30  0.0794  0.0055 -0.0467  0.0039  0.154963\n",
       "2001-05-31  0.0072  0.0250  0.0336  0.0032 -0.217341\n",
       "2001-06-30 -0.0194  0.0624 -0.0112  0.0028  0.165416\n",
       "...            ...     ...     ...     ...       ...\n",
       "2022-06-30 -0.0844  0.0218 -0.0610  0.0006 -0.081430\n",
       "2022-07-31  0.0957  0.0280 -0.0403  0.0008  0.188634\n",
       "2022-08-31 -0.0377  0.0140  0.0029  0.0019 -0.031208\n",
       "2022-09-30 -0.0935 -0.0082  0.0002  0.0019 -0.120977\n",
       "2022-10-31  0.0783  0.0007  0.0806  0.0023  0.005644\n",
       "\n",
       "[261 rows x 5 columns]"
      ]
     },
     "execution_count": 12,
     "metadata": {},
     "output_type": "execute_result"
    }
   ],
   "source": [
    "ff_data.columns = ['beta', 'size', 'value', 'rf', 'ret']\n",
    "ff_data"
   ]
  },
  {
   "cell_type": "markdown",
   "metadata": {},
   "source": [
    "## Ridge & Lasso"
   ]
  },
  {
   "cell_type": "code",
   "execution_count": 13,
   "metadata": {},
   "outputs": [
    {
     "name": "stdout",
     "output_type": "stream",
     "text": [
      "[ 1.01804208  0.08091643 -0.42642725] 0.021775685435580675\n",
      "[ 0.72247701  0.         -0.        ] 0.02314838423101795\n"
     ]
    }
   ],
   "source": [
    "X = ff_data[['beta', 'size', 'value']]\n",
    "y = ff_data['ret'] - ff_data['rf']\n",
    "\n",
    "# Ridge\n",
    "ridge = Ridge(alpha=0.1)\n",
    "ridge.fit(X,y)\n",
    "print(ridge.coef_, ridge.intercept_)\n",
    "\n",
    "# Lasso\n",
    "lasso = Lasso(alpha=0.001)\n",
    "lasso.fit(X, y)\n",
    "print(lasso.coef_, lasso.intercept_)"
   ]
  },
  {
   "cell_type": "code",
   "execution_count": 14,
   "metadata": {},
   "outputs": [],
   "source": [
    "# diff alpha for Ridge\n",
    "ridge_coef_list = []\n",
    "\n",
    "alpha_arr = np.linspace(0.0, 4.0, 100)\n",
    "\n",
    "for alpha in alpha_arr:\n",
    "    ridge = Ridge(alpha=alpha)\n",
    "    ridge.fit(X, y)\n",
    "    ridge_coef_list.append(ridge.coef_)"
   ]
  },
  {
   "cell_type": "code",
   "execution_count": 16,
   "metadata": {},
   "outputs": [
    {
     "name": "stdout",
     "output_type": "stream",
     "text": [
      "            Market      Size     Value\n",
      "0.000000  1.221239  0.025150 -0.604884\n",
      "0.040404  1.128549  0.058226 -0.518089\n",
      "0.080808  1.050895  0.075693 -0.452341\n",
      "0.121212  0.984249  0.085164 -0.400917\n",
      "0.161616  0.926128  0.090166 -0.359660\n",
      "...            ...       ...       ...\n",
      "3.838384  0.149359  0.024888 -0.032644\n",
      "3.878788  0.147998  0.024671 -0.032318\n",
      "3.919192  0.146662  0.024457 -0.031998\n",
      "3.959596  0.145350  0.024246 -0.031684\n",
      "4.000000  0.144062  0.024040 -0.031376\n",
      "\n",
      "[100 rows x 3 columns]\n"
     ]
    },
    {
     "data": {
      "text/plain": [
       "Text(0, 0.5, 'Coefficient')"
      ]
     },
     "execution_count": 16,
     "metadata": {},
     "output_type": "execute_result"
    },
    {
     "data": {
      "image/png": "[encoded data removed]",
      "text/plain": [
       "<Figure size 640x480 with 1 Axes>"
      ]
     },
     "metadata": {},
     "output_type": "display_data"
    }
   ],
   "source": [
    "ridge_df = pd.DataFrame(ridge_coef_list, index=alpha_arr, columns=['Market', 'Size', 'Value'])\n",
    "print(ridge_df)\n",
    "\n",
    "ridge_df.plot()\n",
    "plt.title('Impact of Ridge Regularization')\n",
    "plt.xlabel('Penalty')\n",
    "plt.ylabel('Coefficient')"
   ]
  },
  {
   "cell_type": "code",
   "execution_count": 17,
   "metadata": {},
   "outputs": [
    {
     "name": "stderr",
     "output_type": "stream",
     "text": [
      "/Users/chulwonchae/.pyenv/versions/3.11.4/lib/python3.11/site-packages/sklearn/base.py:1473: UserWarning: With alpha=0, this algorithm does not converge well. You are advised to use the LinearRegression estimator\n",
      "  return fit_method(estimator, *args, **kwargs)\n",
      "/Users/chulwonchae/.pyenv/versions/3.11.4/lib/python3.11/site-packages/sklearn/linear_model/_coordinate_descent.py:697: UserWarning: Coordinate descent with no regularization may lead to unexpected results and is discouraged.\n",
      "  model = cd_fast.enet_coordinate_descent(\n",
      "/Users/chulwonchae/.pyenv/versions/3.11.4/lib/python3.11/site-packages/sklearn/linear_model/_coordinate_descent.py:697: ConvergenceWarning: Objective did not converge. You might want to increase the number of iterations, check the scale of the features or consider increasing regularisation. Duality gap: 8.652e-01, tolerance: 2.614e-04 Linear regression models with null weight for the l1 regularization term are more efficiently fitted using one of the solvers implemented in sklearn.linear_model.Ridge/RidgeCV instead.\n",
      "  model = cd_fast.enet_coordinate_descent(\n"
     ]
    }
   ],
   "source": [
    "# diff alpha for lasso\n",
    "lasso_coef_list = []\n",
    "\n",
    "alpha_arr = np.linspace(0.000, 0.010, 100)\n",
    "\n",
    "for alpha in alpha_arr:\n",
    "    lasso = Lasso(alpha=alpha)\n",
    "    lasso.fit(X, y)\n",
    "    lasso_coef_list.append(lasso.coef_)"
   ]
  },
  {
   "cell_type": "code",
   "execution_count": 18,
   "metadata": {},
   "outputs": [
    {
     "name": "stdout",
     "output_type": "stream",
     "text": [
      "            Market     Size     Value\n",
      "0.000000  1.221239  0.02515 -0.604884\n",
      "0.000101  1.172787  0.00000 -0.499801\n",
      "0.000202  1.120069  0.00000 -0.395069\n",
      "0.000303  1.067352  0.00000 -0.290336\n",
      "0.000404  1.014634  0.00000 -0.185604\n",
      "...            ...      ...       ...\n",
      "0.009596  0.000000  0.00000 -0.000000\n",
      "0.009697  0.000000  0.00000 -0.000000\n",
      "0.009798  0.000000  0.00000 -0.000000\n",
      "0.009899  0.000000  0.00000 -0.000000\n",
      "0.010000  0.000000  0.00000 -0.000000\n",
      "\n",
      "[100 rows x 3 columns]\n"
     ]
    },
    {
     "data": {
      "text/plain": [
       "Text(0, 0.5, 'Coefficient')"
      ]
     },
     "execution_count": 18,
     "metadata": {},
     "output_type": "execute_result"
    },
    {
     "data": {
      "image/png": "[encoded data removed]",
      "text/plain": [
       "<Figure size 640x480 with 1 Axes>"
      ]
     },
     "metadata": {},
     "output_type": "display_data"
    }
   ],
   "source": [
    "lasso_df = pd.DataFrame(lasso_coef_list, index=alpha_arr, columns=['Market', 'Size', 'Value'])\n",
    "print(lasso_df)\n",
    "\n",
    "lasso_df.plot()\n",
    "plt.title('Impact of Lasso Regularization')\n",
    "plt.xlabel('Penalty')\n",
    "plt.ylabel('Coefficient')"
   ]
  },
  {
   "cell_type": "code",
   "execution_count": 19,
   "metadata": {},
   "outputs": [],
   "source": [
    "from sklearn.model_selection import GridSearchCV, train_test_split\n",
    "from sklearn.metrics import mean_squared_error\n",
    "\n",
    "X = ff_data[['beta', 'size', 'value']]\n",
    "y = ff_data['ret'] - ff_data['rf']\n",
    "\n",
    "X_train, X_test, y_train, y_test = train_test_split(X,y, test_size=0.2, random_state=123)"
   ]
  },
  {
   "cell_type": "code",
   "execution_count": 20,
   "metadata": {},
   "outputs": [
    {
     "name": "stdout",
     "output_type": "stream",
     "text": [
      "Optimal alpha: 0.013257113655901081\n"
     ]
    }
   ],
   "source": [
    "# Bound of Alpha\n",
    "alpha_values = {'alpha': np.logspace(-4, 4, 50)}\n",
    "ridge = Ridge()\n",
    "\n",
    "# GridSearch with Cross validation\n",
    "grid_search = GridSearchCV(ridge, alpha_values, cv=5, scoring='neg_mean_squared_error')\n",
    "grid_search.fit(X_train, y_train)\n",
    "\n",
    "best_alpha = grid_search.best_params_['alpha']\n",
    "print(f\"Optimal alpha: {best_alpha}\")\n"
   ]
  },
  {
   "cell_type": "code",
   "execution_count": 21,
   "metadata": {},
   "outputs": [
    {
     "name": "stdout",
     "output_type": "stream",
     "text": [
      "Mean Squared Error on Test Set: 0.006099069731571592\n"
     ]
    }
   ],
   "source": [
    "# 최적의 알파 값으로 Ridge 회귀 모델 학습\n",
    "ridge_best = Ridge(alpha=best_alpha)\n",
    "ridge_best.fit(X_train, y_train)\n",
    "\n",
    "y_pred = ridge_best.predict(X_test)\n",
    "mse = mean_squared_error(y_test, y_pred)\n",
    "print(f\"Mean Squared Error on Test Set: {mse}\")\n"
   ]
  },
  {
   "cell_type": "code",
   "execution_count": null,
   "metadata": {},
   "outputs": [],
   "source": []
  }
 ],
 "metadata": {
  "kernelspec": {
   "display_name": "Python 3.11.4 64-bit ('3.11.4')",
   "language": "python",
   "name": "python3"
  },
  "language_info": {
   "codemirror_mode": {
    "name": "ipython",
    "version": 3
   },
   "file_extension": ".py",
   "mimetype": "text/x-python",
   "name": "python",
   "nbconvert_exporter": "python",
   "pygments_lexer": "ipython3",
   "version": "3.11.4"
  },
  "orig_nbformat": 4,
  "vscode": {
   "interpreter": {
    "hash": "254afc4915b5523c7e351d8aa78e4fe2886e37aa2334b3c2b629036e36c1190f"
   }
  }
 },
 "nbformat": 4,
 "nbformat_minor": 2
}
